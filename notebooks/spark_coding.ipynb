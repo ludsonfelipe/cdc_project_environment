{
 "cells": [
  {
   "cell_type": "code",
   "execution_count": 1,
   "id": "dfe83f34-9b81-4a0b-94ae-b79f3a6beb03",
   "metadata": {},
   "outputs": [
    {
     "name": "stdout",
     "output_type": "stream",
     "text": [
      "Sessão Spark inicializada com suporte ao Delta Lake.\n",
      "Dataframe criado:\n",
      "+-------+------------+-------+\n",
      "|   nome|departamento|salario|\n",
      "+-------+------------+-------+\n",
      "|  Alice|      Vendas|   5000|\n",
      "|    Bob|          TI|   6000|\n",
      "|Charlie|      Vendas|   4500|\n",
      "|  David|   Marketing|   4000|\n",
      "|    Eve|          TI|   5500|\n",
      "+-------+------------+-------+\n",
      "\n"
     ]
    }
   ],
   "source": [
    "from pyspark.sql import SparkSession\n",
    "from pyspark.sql.functions import col, avg\n",
    "#from delta import *\n",
    "\n",
    "# Inicializar a sessão Spark\n",
    "minio_endpoint = \"http://127.0.0.1:9000\"\n",
    "minio_access_key = \"minio\"\n",
    "minio_secret_key = \"minio123\"\n",
    "\n",
    "spark = SparkSession.builder \\\n",
    "    .appName(\"test13\") \\\n",
    "    .config(\"spark.hadoop.fs.s3a.endpoint\", minio_endpoint) \\\n",
    "    .config(\"spark.hadoop.fs.s3a.access.key\", minio_access_key) \\\n",
    "    .config(\"spark.hadoop.fs.s3a.secret.key\", minio_secret_key) \\\n",
    "    .config(\"spark.hadoop.fs.s3a.path.style.access\", \"true\") \\\n",
    "    .config(\"spark.sql.extensions\", \"io.delta.sql.DeltaSparkSessionExtension\") \\\n",
    "    .config(\"spark.sql.catalog.spark_catalog\", \"org.apache.spark.sql.delta.catalog.DeltaCatalog\") \\\n",
    "    .getOrCreate()\n",
    "\n",
    "print(\"Sessão Spark inicializada com suporte ao Delta Lake.\")\n",
    "\n",
    "delta_table_path = \"s3a://raw/ecommerce_db/postgres.public.products*.json\"\n",
    "products_df = spark.read.format(\"json\").load(delta_table_path)"
   ]
  },
  {
   "cell_type": "code",
   "execution_count": 18,
   "id": "57f407ea-06ba-4cd6-bacc-d3a29698d023",
   "metadata": {},
   "outputs": [],
   "source": [
    "delta_table_path = \"s3a://raw/ecommerce_db/postgres.public.products*.json\"\n",
    "products_df = spark.read.format(\"json\").load(delta_table_path)"
   ]
  },
  {
   "cell_type": "code",
   "execution_count": null,
   "id": "5151e42f-43ce-4458-9e07-31caf17d3e60",
   "metadata": {},
   "outputs": [],
   "source": []
  },
  {
   "cell_type": "code",
   "execution_count": null,
   "id": "a7be48a4-ffbf-45e1-9fde-e05ddc4bef2d",
   "metadata": {},
   "outputs": [],
   "source": []
  },
  {
   "cell_type": "code",
   "execution_count": null,
   "id": "86b0665c-1879-45f8-ab4e-ad0ca8ef5937",
   "metadata": {},
   "outputs": [],
   "source": []
  },
  {
   "cell_type": "code",
   "execution_count": null,
   "id": "5231372d-e923-45a1-9cf7-9058a9fe2f51",
   "metadata": {},
   "outputs": [],
   "source": []
  },
  {
   "cell_type": "code",
   "execution_count": 6,
   "id": "321ef919-dd97-4502-afd2-fe1c2d777ac8",
   "metadata": {},
   "outputs": [
    {
     "name": "stderr",
     "output_type": "stream",
     "text": [
      "----------------------------------------\n",
      "Exception occurred during processing of request from ('127.0.0.1', 40836)\n",
      "Traceback (most recent call last):\n",
      "  File \"/opt/conda/lib/python3.11/socketserver.py\", line 317, in _handle_request_noblock\n",
      "    self.process_request(request, client_address)\n",
      "  File \"/opt/conda/lib/python3.11/socketserver.py\", line 348, in process_request\n",
      "    self.finish_request(request, client_address)\n",
      "  File \"/opt/conda/lib/python3.11/socketserver.py\", line 361, in finish_request\n",
      "    self.RequestHandlerClass(request, client_address, self)\n",
      "  File \"/opt/conda/lib/python3.11/socketserver.py\", line 755, in __init__\n",
      "    self.handle()\n",
      "  File \"/usr/local/spark/python/pyspark/accumulators.py\", line 295, in handle\n",
      "    poll(accum_updates)\n",
      "  File \"/usr/local/spark/python/pyspark/accumulators.py\", line 267, in poll\n",
      "    if self.rfile in r and func():\n",
      "                           ^^^^^^\n",
      "  File \"/usr/local/spark/python/pyspark/accumulators.py\", line 271, in accum_updates\n",
      "    num_updates = read_int(self.rfile)\n",
      "                  ^^^^^^^^^^^^^^^^^^^^\n",
      "  File \"/usr/local/spark/python/pyspark/serializers.py\", line 596, in read_int\n",
      "    raise EOFError\n",
      "EOFError\n",
      "----------------------------------------\n"
     ]
    }
   ],
   "source": [
    "delta_table_path = \"s3a://raw/xd.json\"\n",
    "df.write.format(\"delta\").save(delta_table_path)"
   ]
  },
  {
   "cell_type": "code",
   "execution_count": null,
   "id": "e22f41b0-b7cb-4cfa-b1c6-5285d1bbedc8",
   "metadata": {},
   "outputs": [],
   "source": []
  },
  {
   "cell_type": "code",
   "execution_count": null,
   "id": "d6291619-fb2f-46f6-bff0-0ff2dcc9f63f",
   "metadata": {},
   "outputs": [],
   "source": []
  },
  {
   "cell_type": "code",
   "execution_count": 3,
   "id": "f2c2229c-e67b-4724-9c86-fd6bbab0606d",
   "metadata": {},
   "outputs": [],
   "source": [
    "spark.stop()"
   ]
  },
  {
   "cell_type": "code",
   "execution_count": 3,
   "id": "852388fc-9ba5-4598-9313-1082373dd76b",
   "metadata": {},
   "outputs": [
    {
     "name": "stdout",
     "output_type": "stream",
     "text": [
      "Python 3.8.13\n"
     ]
    }
   ],
   "source": [
    "!python --version"
   ]
  },
  {
   "cell_type": "code",
   "execution_count": null,
   "id": "65524385-a494-434c-9ff1-8582aebd8858",
   "metadata": {},
   "outputs": [],
   "source": []
  }
 ],
 "metadata": {
  "kernelspec": {
   "display_name": "Python 3 (ipykernel)",
   "language": "python",
   "name": "python3"
  },
  "language_info": {
   "codemirror_mode": {
    "name": "ipython",
    "version": 3
   },
   "file_extension": ".py",
   "mimetype": "text/x-python",
   "name": "python",
   "nbconvert_exporter": "python",
   "pygments_lexer": "ipython3",
   "version": "3.11.6"
  }
 },
 "nbformat": 4,
 "nbformat_minor": 5
}
