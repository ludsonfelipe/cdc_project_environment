{
 "cells": [
  {
   "cell_type": "code",
   "execution_count": 3,
   "id": "dfe83f34-9b81-4a0b-94ae-b79f3a6beb03",
   "metadata": {},
   "outputs": [
    {
     "name": "stdout",
     "output_type": "stream",
     "text": [
      "Sessão Spark inicializada com suporte ao Delta Lake.\n"
     ]
    }
   ],
   "source": [
    "from pyspark.sql import SparkSession\n",
    "from pyspark.sql.functions import col, avg\n",
    "#from delta import *\n",
    "\n",
    "# Inicializar a sessão Spark\n",
    "minio_endpoint = \"http://minio:9000\"\n",
    "minio_access_key = \"minio\"\n",
    "minio_secret_key = \"minio123\"\n",
    "\n",
    "spark = SparkSession.builder \\\n",
    "    .appName(\"cdcproject\") \\\n",
    "    .config(\"spark.hadoop.fs.s3a.endpoint\", minio_endpoint) \\\n",
    "    .config(\"spark.hadoop.fs.s3a.access.key\", minio_access_key) \\\n",
    "    .config(\"spark.hadoop.fs.s3a.secret.key\", minio_secret_key) \\\n",
    "    .config(\"spark.hadoop.fs.s3a.path.style.access\", \"true\") \\\n",
    "    .config(\"spark.sql.extensions\", \"io.delta.sql.DeltaSparkSessionExtension\") \\\n",
    "    .config(\"spark.sql.catalog.spark_catalog\", \"org.apache.spark.sql.delta.catalog.DeltaCatalog\") \\\n",
    "    .getOrCreate()\n",
    "\n",
    "print(\"Sessão Spark inicializada com suporte ao Delta Lake.\")\n",
    "\n",
    "delta_table_path = \"s3a://raw/ecommerce_db/postgres.public.orders*.json\"\n",
    "orders_df = spark.read.format(\"json\").load(delta_table_path)"
   ]
  },
  {
   "cell_type": "code",
   "execution_count": 5,
   "id": "9573b9c0-0fb9-46d3-ac20-eb7eec17210a",
   "metadata": {},
   "outputs": [
    {
     "name": "stdout",
     "output_type": "stream",
     "text": [
      "root\n",
      " |-- value: struct (nullable = true)\n",
      " |    |-- after: struct (nullable = true)\n",
      " |    |    |-- customer_id: string (nullable = true)\n",
      " |    |    |-- order_approved_at: long (nullable = true)\n",
      " |    |    |-- order_delivered_timestamp: long (nullable = true)\n",
      " |    |    |-- order_estimated_delivery_date: long (nullable = true)\n",
      " |    |    |-- order_id: string (nullable = true)\n",
      " |    |    |-- order_purchase_timestamp: long (nullable = true)\n",
      " |    |    |-- order_status: string (nullable = true)\n",
      " |    |-- before: string (nullable = true)\n",
      " |    |-- op: string (nullable = true)\n",
      " |    |-- source: struct (nullable = true)\n",
      " |    |    |-- connector: string (nullable = true)\n",
      " |    |    |-- db: string (nullable = true)\n",
      " |    |    |-- lsn: long (nullable = true)\n",
      " |    |    |-- name: string (nullable = true)\n",
      " |    |    |-- schema: string (nullable = true)\n",
      " |    |    |-- sequence: string (nullable = true)\n",
      " |    |    |-- snapshot: string (nullable = true)\n",
      " |    |    |-- table: string (nullable = true)\n",
      " |    |    |-- ts_ms: long (nullable = true)\n",
      " |    |    |-- txId: long (nullable = true)\n",
      " |    |    |-- version: string (nullable = true)\n",
      " |    |    |-- xmin: string (nullable = true)\n",
      " |    |-- transaction: string (nullable = true)\n",
      " |    |-- ts_ms: long (nullable = true)\n",
      "\n"
     ]
    }
   ],
   "source": [
    "orders_df.printSchema()"
   ]
  },
  {
   "cell_type": "code",
   "execution_count": 6,
   "id": "f2c2229c-e67b-4724-9c86-fd6bbab0606d",
   "metadata": {},
   "outputs": [],
   "source": [
    "spark.stop()"
   ]
  }
 ],
 "metadata": {
  "kernelspec": {
   "display_name": "Python 3 (ipykernel)",
   "language": "python",
   "name": "python3"
  },
  "language_info": {
   "codemirror_mode": {
    "name": "ipython",
    "version": 3
   },
   "file_extension": ".py",
   "mimetype": "text/x-python",
   "name": "python",
   "nbconvert_exporter": "python",
   "pygments_lexer": "ipython3",
   "version": "3.11.6"
  }
 },
 "nbformat": 4,
 "nbformat_minor": 5
}
